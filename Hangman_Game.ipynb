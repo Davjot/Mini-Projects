{
  "nbformat": 4,
  "nbformat_minor": 0,
  "metadata": {
    "colab": {
      "name": "Hangman Game.ipynb",
      "provenance": [],
      "authorship_tag": "ABX9TyND1uJWygpfVusZqWw3eDkR",
      "include_colab_link": true
    },
    "kernelspec": {
      "name": "python3",
      "display_name": "Python 3"
    },
    "language_info": {
      "name": "python"
    }
  },
  "cells": [
    {
      "cell_type": "markdown",
      "metadata": {
        "id": "view-in-github",
        "colab_type": "text"
      },
      "source": [
        "<a href=\"https://colab.research.google.com/github/Davjot/Mini-Projects/blob/main/Hangman_Game.ipynb\" target=\"_parent\"><img src=\"https://colab.research.google.com/assets/colab-badge.svg\" alt=\"Open In Colab\"/></a>"
      ]
    },
    {
      "cell_type": "markdown",
      "source": [
        "Importing libraries  "
      ],
      "metadata": {
        "id": "4grkPTcQtenI"
      }
    },
    {
      "cell_type": "code",
      "execution_count": 3,
      "metadata": {
        "id": "o7sH3Ee5tKVH"
      },
      "outputs": [],
      "source": [
        "import time as t\n",
        "import random as r"
      ]
    },
    {
      "cell_type": "markdown",
      "source": [
        "Using the time library"
      ],
      "metadata": {
        "id": "0lR0-I30vOMK"
      }
    },
    {
      "cell_type": "code",
      "source": [
        "name = input('Enter Your Name here : ')\n",
        "print('Hello, ' + name, 'Time to play Hangman')\n",
        "t.sleep(1) #suspends the execution for a couple of seconds; here for 1s\n",
        "print('Start guessing .. \\n')\n",
        "t.sleep(0.5)"
      ],
      "metadata": {
        "colab": {
          "base_uri": "https://localhost:8080/"
        },
        "id": "LHW-zPD8tilG",
        "outputId": "074345bb-5ca1-4f94-a5d5-132f50c15ccc"
      },
      "execution_count": 21,
      "outputs": [
        {
          "output_type": "stream",
          "name": "stdout",
          "text": [
            "Enter Your Name here : Karma Akabane\n",
            "Hello, Karma Akabane Time to play Hangman\n",
            "Start guessing .. \n",
            "\n"
          ]
        }
      ]
    },
    {
      "cell_type": "markdown",
      "source": [
        "Appending the secret words"
      ],
      "metadata": {
        "id": "BoFD70WZvSNp"
      }
    },
    {
      "cell_type": "code",
      "source": [
        "#List of secret words \n",
        "words = ['Hinata', 'Sakura', 'Kakashi', 'Sasuke', 'Naruto', 'Anime']\n",
        "word = r.choice(words)\n",
        "guesses = ''\n",
        "turns = 5"
      ],
      "metadata": {
        "id": "GjcmTNWWuSmW"
      },
      "execution_count": 22,
      "outputs": []
    },
    {
      "cell_type": "markdown",
      "source": [
        "Logic"
      ],
      "metadata": {
        "id": "8HpHy5nmwoR7"
      }
    },
    {
      "cell_type": "code",
      "source": [
        "while turns > 0:\n",
        "  failed = 0 \n",
        "  for char in word:\n",
        "    if char in guesses:\n",
        "      print(char, end = '')\n",
        "    else:\n",
        "      print('_', end = '')\n",
        "      failed += 1\n",
        "  if failed == 0:\n",
        "    print('\\n You Win')\n",
        "    break\n",
        "  guess = input('\\n Guess a character: ')\n",
        "  guesses += guess\n",
        "  if guess not in word:\n",
        "    turns -= 1\n",
        "    print(\"\\n Wrong! Try Again\")\n",
        "    print('\\n You have ', + turns, 'more guesses')\n",
        "    if turns == 0:\n",
        "      print('\\n You Lose')"
      ],
      "metadata": {
        "colab": {
          "base_uri": "https://localhost:8080/"
        },
        "id": "072F6PzlvXt-",
        "outputId": "44a40e31-d28f-403c-c3ae-161e3f1d7343"
      },
      "execution_count": 23,
      "outputs": [
        {
          "output_type": "stream",
          "name": "stdout",
          "text": [
            "_____\n",
            " Guess a character: A\n",
            "A____\n",
            " Guess a character: N\n",
            "\n",
            " Wrong! Try Again\n",
            "\n",
            " You have  4 more guesses\n",
            "A____\n",
            " Guess a character: n\n",
            "An___\n",
            " Guess a character: I\n",
            "\n",
            " Wrong! Try Again\n",
            "\n",
            " You have  3 more guesses\n",
            "An___\n",
            " Guess a character: i\n",
            "Ani__\n",
            " Guess a character: E\n",
            "\n",
            " Wrong! Try Again\n",
            "\n",
            " You have  2 more guesses\n",
            "Ani__\n",
            " Guess a character: e\n",
            "Ani_e\n",
            " Guess a character: m\n",
            "Anime\n",
            " You Win\n"
          ]
        }
      ]
    }
  ]
}