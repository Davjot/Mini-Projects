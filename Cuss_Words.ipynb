{
  "nbformat": 4,
  "nbformat_minor": 0,
  "metadata": {
    "colab": {
      "name": "Cuss Words.ipynb",
      "provenance": [],
      "authorship_tag": "ABX9TyPaE7puLq60QImDOsUtJClF",
      "include_colab_link": true
    },
    "kernelspec": {
      "name": "python3",
      "display_name": "Python 3"
    },
    "language_info": {
      "name": "python"
    }
  },
  "cells": [
    {
      "cell_type": "markdown",
      "metadata": {
        "id": "view-in-github",
        "colab_type": "text"
      },
      "source": [
        "<a href=\"https://colab.research.google.com/github/Davjot/Mini-Projects/blob/main/Cuss_Words.ipynb\" target=\"_parent\"><img src=\"https://colab.research.google.com/assets/colab-badge.svg\" alt=\"Open In Colab\"/></a>"
      ]
    },
    {
      "cell_type": "markdown",
      "source": [
        "# Removing Cuss Words"
      ],
      "metadata": {
        "id": "KqIe7xIZoB9p"
      }
    },
    {
      "cell_type": "markdown",
      "source": [
        "Installing the library "
      ],
      "metadata": {
        "id": "fEdioeXTn-R2"
      }
    },
    {
      "cell_type": "code",
      "execution_count": 1,
      "metadata": {
        "colab": {
          "base_uri": "https://localhost:8080/"
        },
        "id": "nLD1uMxFn0_1",
        "outputId": "19e13cad-87d6-4e96-a299-928289cccc41"
      },
      "outputs": [
        {
          "output_type": "stream",
          "name": "stdout",
          "text": [
            "Looking in indexes: https://pypi.org/simple, https://us-python.pkg.dev/colab-wheels/public/simple/\n",
            "Collecting better_profanity\n",
            "  Downloading better_profanity-0.7.0-py3-none-any.whl (46 kB)\n",
            "\u001b[K     |████████████████████████████████| 46 kB 1.8 MB/s \n",
            "\u001b[?25hInstalling collected packages: better-profanity\n",
            "Successfully installed better-profanity-0.7.0\n"
          ]
        }
      ],
      "source": [
        "pip install better_profanity"
      ]
    },
    {
      "cell_type": "code",
      "source": [
        "from better_profanity import profanity\n",
        "text = 'Leave me alone and just piss off'\n",
        "censored = profanity.censor(text)\n",
        "print(censored)"
      ],
      "metadata": {
        "colab": {
          "base_uri": "https://localhost:8080/"
        },
        "id": "oXWlqfcwoH7e",
        "outputId": "75da8445-9105-4cf6-d930-bc9f4675ec29"
      },
      "execution_count": 3,
      "outputs": [
        {
          "output_type": "stream",
          "name": "stdout",
          "text": [
            "Leave me alone and just ****\n"
          ]
        }
      ]
    }
  ]
}