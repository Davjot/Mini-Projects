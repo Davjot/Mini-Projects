{
  "nbformat": 4,
  "nbformat_minor": 0,
  "metadata": {
    "colab": {
      "name": "AgeCalculator.ipynb",
      "provenance": [],
      "authorship_tag": "ABX9TyMdf/Fk9q9vwoAFHEJTaF6D",
      "include_colab_link": true
    },
    "kernelspec": {
      "name": "python3",
      "display_name": "Python 3"
    },
    "language_info": {
      "name": "python"
    }
  },
  "cells": [
    {
      "cell_type": "markdown",
      "metadata": {
        "id": "view-in-github",
        "colab_type": "text"
      },
      "source": [
        "<a href=\"https://colab.research.google.com/github/Davjot/Mini-Projects/blob/main/AgeCalculator.ipynb\" target=\"_parent\"><img src=\"https://colab.research.google.com/assets/colab-badge.svg\" alt=\"Open In Colab\"/></a>"
      ]
    },
    {
      "cell_type": "code",
      "execution_count": 3,
      "metadata": {
        "colab": {
          "base_uri": "https://localhost:8080/"
        },
        "id": "Y8YKvFYGo1Jf",
        "outputId": "4ef801d8-64ef-4558-d5b7-e75c58b77def"
      },
      "outputs": [
        {
          "output_type": "stream",
          "name": "stdout",
          "text": [
            "20\n"
          ]
        }
      ],
      "source": [
        "def AgeCalculator(y, m ,d):\n",
        "  import datetime #importing the date time module\n",
        "  today = datetime.datetime.now().date() #taking today’s date by using the datetime.now() method of the datetime module\n",
        "  dob = datetime.date(y, m, d)\n",
        "  age = int((today-dob).days / 365)\n",
        "  print(age)\n",
        "AgeCalculator(2001, 10, 1)  "
      ]
    }
  ]
}