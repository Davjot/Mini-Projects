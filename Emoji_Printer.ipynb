{
  "nbformat": 4,
  "nbformat_minor": 0,
  "metadata": {
    "colab": {
      "name": "Emoji Printer.ipynb",
      "provenance": [],
      "authorship_tag": "ABX9TyPIWhPig1Py8MR2fVZaBiCV",
      "include_colab_link": true
    },
    "kernelspec": {
      "name": "python3",
      "display_name": "Python 3"
    },
    "language_info": {
      "name": "python"
    }
  },
  "cells": [
    {
      "cell_type": "markdown",
      "metadata": {
        "id": "view-in-github",
        "colab_type": "text"
      },
      "source": [
        "<a href=\"https://colab.research.google.com/github/Davjot/Mini-Projects/blob/main/Emoji_Printer.ipynb\" target=\"_parent\"><img src=\"https://colab.research.google.com/assets/colab-badge.svg\" alt=\"Open In Colab\"/></a>"
      ]
    },
    {
      "cell_type": "markdown",
      "source": [
        "# Emoji Printer"
      ],
      "metadata": {
        "id": "g2Ts-6_rmX8k"
      }
    },
    {
      "cell_type": "markdown",
      "source": [
        "Installing the emoji library "
      ],
      "metadata": {
        "id": "dKpS9kcglzz2"
      }
    },
    {
      "cell_type": "code",
      "source": [
        "pip install emoji"
      ],
      "metadata": {
        "colab": {
          "base_uri": "https://localhost:8080/"
        },
        "id": "3pEB-URolaQ5",
        "outputId": "d4cebb05-efd5-4046-d5dd-e788cbcc23ba"
      },
      "execution_count": 6,
      "outputs": [
        {
          "output_type": "stream",
          "name": "stdout",
          "text": [
            "Looking in indexes: https://pypi.org/simple, https://us-python.pkg.dev/colab-wheels/public/simple/\n",
            "Collecting emoji\n",
            "  Downloading emoji-1.7.0.tar.gz (175 kB)\n",
            "\u001b[K     |████████████████████████████████| 175 kB 8.2 MB/s \n",
            "\u001b[?25hBuilding wheels for collected packages: emoji\n",
            "  Building wheel for emoji (setup.py) ... \u001b[?25l\u001b[?25hdone\n",
            "  Created wheel for emoji: filename=emoji-1.7.0-py3-none-any.whl size=171046 sha256=88330060987a2240d70af793efdb4ac7f0e9e304ea65bdf80b2d5d3d008415c0\n",
            "  Stored in directory: /root/.cache/pip/wheels/8a/4e/b6/57b01db010d17ef6ea9b40300af725ef3e210cb1acfb7ac8b6\n",
            "Successfully built emoji\n",
            "Installing collected packages: emoji\n",
            "Successfully installed emoji-1.7.0\n"
          ]
        }
      ]
    },
    {
      "cell_type": "markdown",
      "source": [
        "Importing the library"
      ],
      "metadata": {
        "id": "7K3fvunGl36h"
      }
    },
    {
      "cell_type": "code",
      "source": [
        "import emoji"
      ],
      "metadata": {
        "id": "YTK0cps0lkCZ"
      },
      "execution_count": 7,
      "outputs": []
    },
    {
      "cell_type": "markdown",
      "source": [
        "Printing the emojis"
      ],
      "metadata": {
        "id": "Go4IyDfKl7Xj"
      }
    },
    {
      "cell_type": "code",
      "source": [
        "#emojize method helps you write the emoji in ::\n",
        "print(emoji.emojize('I love reading books :books:'))\n",
        "print(emoji.emojize(\"Some people have a good heart :red_heart: , please be kind to them :hibiscus:\"))"
      ],
      "metadata": {
        "colab": {
          "base_uri": "https://localhost:8080/"
        },
        "id": "vQWNYw7rlqge",
        "outputId": "b9900c49-13ec-41cc-e774-0a5e50e215e9"
      },
      "execution_count": 12,
      "outputs": [
        {
          "output_type": "stream",
          "name": "stdout",
          "text": [
            "I love reading books 📚\n",
            "Some people have a good heart ❤️ , please be kind to them 🌺\n"
          ]
        }
      ]
    }
  ]
}