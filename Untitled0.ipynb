{
  "nbformat": 4,
  "nbformat_minor": 0,
  "metadata": {
    "colab": {
      "name": "Untitled0.ipynb",
      "provenance": [],
      "authorship_tag": "ABX9TyM55tgOO+fFvtjcQguPEFlj",
      "include_colab_link": true
    },
    "kernelspec": {
      "name": "python3",
      "display_name": "Python 3"
    },
    "language_info": {
      "name": "python"
    }
  },
  "cells": [
    {
      "cell_type": "markdown",
      "metadata": {
        "id": "view-in-github",
        "colab_type": "text"
      },
      "source": [
        "<a href=\"https://colab.research.google.com/github/Davjot/Mini-Projects/blob/main/Untitled0.ipynb\" target=\"_parent\"><img src=\"https://colab.research.google.com/assets/colab-badge.svg\" alt=\"Open In Colab\"/></a>"
      ]
    },
    {
      "cell_type": "markdown",
      "source": [
        "# Monty Hall Problem "
      ],
      "metadata": {
        "id": "v6xaWikYmogj"
      }
    },
    {
      "cell_type": "code",
      "execution_count": 6,
      "metadata": {
        "colab": {
          "base_uri": "https://localhost:8080/"
        },
        "id": "xyk6hzNEmnSb",
        "outputId": "11491da7-d586-4746-b3ac-ffad39a44f8a"
      },
      "outputs": [
        {
          "output_type": "stream",
          "name": "stderr",
          "text": [
            "/usr/local/lib/python3.7/dist-packages/ipykernel_launcher.py:21: DeprecationWarning: This function is deprecated. Please call randint(0, 2 + 1) instead\n"
          ]
        },
        {
          "output_type": "stream",
          "name": "stdout",
          "text": [
            "Winning percentage without changing the choice:  0.333933\n",
            "Winning percentage while changing choice:  0.666067\n"
          ]
        }
      ],
      "source": [
        "import random as r \n",
        "from random import seed, randint  #seed method is used to generate random umber generator and randint generates random integer\n",
        "import numpy as np \n",
        "\n",
        "def game(winningdoor, selected_door, change= False):\n",
        "  assert winningdoor < 3\n",
        "  assert winningdoor >= 0 #assert keyword checks the condition is true and if not error is raised\n",
        "\n",
        "  #the host removes the first door that was not selected neither winning \n",
        "  removed_door = next(i for i in range(3) if i != selected_door and i != winningdoor)\n",
        "\n",
        "  #if player decides to change the door \n",
        "  if change:\n",
        "    selected_door = next(i for i in range(3) if i != selected_door and i != removed_door)\n",
        "\n",
        "  #we suppose player does not want to change\n",
        "  return selected_door == winningdoor \n",
        "\n",
        "#defining a constructor \n",
        "if __name__ == '__main__': \n",
        "  playerdoors = np.random.random_integers(0,2, (1000 * 1000 * 1))\n",
        "\n",
        "  winningdoors = [d for d in playerdoors if game(1,d)]\n",
        "  print('Winning percentage without changing the choice: ', len(winningdoors) / len(playerdoors))\n",
        "\n",
        "  winningdoors = [d for d in playerdoors if game(1, d, change=True)]\n",
        "  print('Winning percentage while changing choice: ', len(winningdoors) / len(playerdoors))"
      ]
    },
    {
      "cell_type": "code",
      "source": [
        ""
      ],
      "metadata": {
        "id": "C1AvOfGawYQB"
      },
      "execution_count": null,
      "outputs": []
    }
  ]
}