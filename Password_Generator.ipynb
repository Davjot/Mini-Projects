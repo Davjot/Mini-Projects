{
  "nbformat": 4,
  "nbformat_minor": 0,
  "metadata": {
    "colab": {
      "name": "Password Generator.ipynb",
      "provenance": [],
      "collapsed_sections": [],
      "authorship_tag": "ABX9TyO9ffMtbo/C7ckdoPwzLEJ+",
      "include_colab_link": true
    },
    "kernelspec": {
      "name": "python3",
      "display_name": "Python 3"
    },
    "language_info": {
      "name": "python"
    }
  },
  "cells": [
    {
      "cell_type": "markdown",
      "metadata": {
        "id": "view-in-github",
        "colab_type": "text"
      },
      "source": [
        "<a href=\"https://colab.research.google.com/github/Davjot/Mini-Projects/blob/main/Password_Generator.ipynb\" target=\"_parent\"><img src=\"https://colab.research.google.com/assets/colab-badge.svg\" alt=\"Open In Colab\"/></a>"
      ]
    },
    {
      "cell_type": "markdown",
      "source": [
        "# Password Generator"
      ],
      "metadata": {
        "id": "jOTCqNAcDUIR"
      }
    },
    {
      "cell_type": "markdown",
      "source": [
        "Importing library"
      ],
      "metadata": {
        "id": "DTOvnPeDDXwu"
      }
    },
    {
      "cell_type": "code",
      "source": [
        "import random "
      ],
      "metadata": {
        "id": "2y43VUZCDnnL"
      },
      "execution_count": 25,
      "outputs": []
    },
    {
      "cell_type": "markdown",
      "source": [
        "Function for generating a password"
      ],
      "metadata": {
        "id": "W80n-x4PFKXI"
      }
    },
    {
      "cell_type": "code",
      "source": [
        "def generatePassword(pwlength):\n",
        "\n",
        "    alphabet = \"abcdefghijklmnopqrstuvwxyz\"\n",
        "\n",
        "    passwords = [] \n",
        "\n",
        "    for i in pwlength:\n",
        "        \n",
        "        password = \"\" \n",
        "        for j in range(i):\n",
        "            next_letter_index = random.randrange(len(alphabet))\n",
        "            password = password + alphabet[next_letter_index]\n",
        "        \n",
        "        password = replaceWithNumber(password)\n",
        "        password = replaceWithUppercaseLetter(password)\n",
        "        \n",
        "        passwords.append(password) \n",
        "    \n",
        "    return passwords"
      ],
      "metadata": {
        "id": "QMDfAu2eDqg2"
      },
      "execution_count": 26,
      "outputs": []
    },
    {
      "cell_type": "markdown",
      "source": [
        "Function for replaceWithNumber "
      ],
      "metadata": {
        "id": "xfOgAXjNGbdz"
      }
    },
    {
      "cell_type": "code",
      "source": [
        "def replaceWithNumber(pword):\n",
        "    for i in range(random.randrange(1,3)):\n",
        "        replace_index = random.randrange(len(pword)//2)\n",
        "        pword = pword[0:replace_index] + str(random.randrange(10)) + pword[replace_index+1:]\n",
        "        return pword"
      ],
      "metadata": {
        "id": "e3kZ8sziFO26"
      },
      "execution_count": 27,
      "outputs": []
    },
    {
      "cell_type": "markdown",
      "source": [
        "Function for replaceWithUpperCaseLetter"
      ],
      "metadata": {
        "id": "vp9T1PvOGe5i"
      }
    },
    {
      "cell_type": "code",
      "source": [
        "def replaceWithUppercaseLetter(pword):\n",
        "    for i in range(random.randrange(1,3)):\n",
        "        replace_index = random.randrange(len(pword)//2,len(pword))\n",
        "        pword = pword[0:replace_index] + pword[replace_index].upper() + pword[replace_index+1:]\n",
        "        return pword"
      ],
      "metadata": {
        "id": "4sZFAIyfF21y"
      },
      "execution_count": 28,
      "outputs": []
    },
    {
      "cell_type": "markdown",
      "source": [
        "Main function "
      ],
      "metadata": {
        "id": "HrpPEC-LGntA"
      }
    },
    {
      "cell_type": "code",
      "source": [
        "def main():\n",
        "    \n",
        "    numPasswords = int(input(\"How many passwords do you want to generate? \"))\n",
        "    \n",
        "    print(\"Generating \" +str(numPasswords)+\" passwords\")\n",
        "    \n",
        "    passwordLengths = []\n",
        "\n",
        "    print(\"Minimum length of password should be 3\")\n",
        "\n",
        "    for i in range(numPasswords):\n",
        "        length = int(input(\"Enter the length of Password #\" + str(i+1) + \" \"))\n",
        "        if length<3:\n",
        "            length = 3\n",
        "        passwordLengths.append(length)\n",
        "    \n",
        "    \n",
        "    Password = generatePassword(passwordLengths)\n",
        "\n",
        "    for i in range(numPasswords):\n",
        "        print (\"Password #\"+str(i+1)+\" = \" + Password[i])\n",
        "\n",
        "main()"
      ],
      "metadata": {
        "colab": {
          "base_uri": "https://localhost:8080/"
        },
        "id": "sNAHLFevGjlu",
        "outputId": "792e6f8b-2063-4d10-8f7b-707333f076ed"
      },
      "execution_count": 30,
      "outputs": [
        {
          "output_type": "stream",
          "name": "stdout",
          "text": [
            "How many passwords do you want to generate? 3\n",
            "Generating 3 passwords\n",
            "Minimum length of password should be 3\n",
            "Enter the length of Password #1 4\n",
            "Enter the length of Password #2 5\n",
            "Enter the length of Password #3 6\n",
            "Password #1 = 6jjH\n",
            "Password #2 = 5pnyS\n",
            "Password #3 = e4umkF\n"
          ]
        }
      ]
    }
  ]
}