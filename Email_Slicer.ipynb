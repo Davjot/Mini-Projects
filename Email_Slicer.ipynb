{
  "nbformat": 4,
  "nbformat_minor": 0,
  "metadata": {
    "colab": {
      "name": "Email Slicer.ipynb",
      "provenance": [],
      "authorship_tag": "ABX9TyOfJc0/dXuwZTLdzYISRDw/",
      "include_colab_link": true
    },
    "kernelspec": {
      "name": "python3",
      "display_name": "Python 3"
    },
    "language_info": {
      "name": "python"
    }
  },
  "cells": [
    {
      "cell_type": "markdown",
      "metadata": {
        "id": "view-in-github",
        "colab_type": "text"
      },
      "source": [
        "<a href=\"https://colab.research.google.com/github/Davjot/Mini-Projects/blob/main/Email_Slicer.ipynb\" target=\"_parent\"><img src=\"https://colab.research.google.com/assets/colab-badge.svg\" alt=\"Open In Colab\"/></a>"
      ]
    },
    {
      "cell_type": "markdown",
      "source": [
        "# Email Slicer"
      ],
      "metadata": {
        "id": "oe_SImwqb9__"
      }
    },
    {
      "cell_type": "code",
      "execution_count": 1,
      "metadata": {
        "colab": {
          "base_uri": "https://localhost:8080/"
        },
        "id": "uo4LMHGJb9NE",
        "outputId": "97646808-3d64-4012-a80a-6dceec395e83"
      },
      "outputs": [
        {
          "output_type": "stream",
          "name": "stdout",
          "text": [
            "Enter your email: abc@gmail.com\n",
            "Your user name is 'abc' and your domain is 'gmail.com'\n"
          ]
        }
      ],
      "source": [
        "#An Email slicer is a very useful program for separating the username and domain name of an email address. \n",
        "\n",
        "email = input('Enter your email: ').strip()\n",
        "username = email[:email.index('@')] #here we divide the two strings , ie, username and domain name by sepaarator @\n",
        "domain_name = email[email.index('@')+ 1:]\n",
        "format = (f\"Your user name is '{username}' and your domain is '{domain_name}'\")\n",
        "print(format)"
      ]
    }
  ]
}