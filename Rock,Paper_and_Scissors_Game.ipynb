{
  "nbformat": 4,
  "nbformat_minor": 0,
  "metadata": {
    "colab": {
      "name": "Rock,Paper and Scissors Game.ipynb",
      "provenance": [],
      "authorship_tag": "ABX9TyO6qS1Z8UklbTrxiv1IGwWo",
      "include_colab_link": true
    },
    "kernelspec": {
      "name": "python3",
      "display_name": "Python 3"
    },
    "language_info": {
      "name": "python"
    }
  },
  "cells": [
    {
      "cell_type": "markdown",
      "metadata": {
        "id": "view-in-github",
        "colab_type": "text"
      },
      "source": [
        "<a href=\"https://colab.research.google.com/github/Davjot/Mini-Projects/blob/main/Rock%2CPaper_and_Scissors_Game.ipynb\" target=\"_parent\"><img src=\"https://colab.research.google.com/assets/colab-badge.svg\" alt=\"Open In Colab\"/></a>"
      ]
    },
    {
      "cell_type": "markdown",
      "source": [
        "# Rock, Paper and Scissors Game"
      ],
      "metadata": {
        "id": "blfmf8xlTnio"
      }
    },
    {
      "cell_type": "code",
      "execution_count": null,
      "metadata": {
        "colab": {
          "base_uri": "https://localhost:8080/"
        },
        "id": "6oMQCLi-TaWT",
        "outputId": "3fac67df-c54e-46d6-dda0-4d4a848434bb"
      },
      "outputs": [
        {
          "output_type": "stream",
          "name": "stdout",
          "text": [
            "Rock, Paper or Scissors?Rock\n",
            "Tie\n",
            "Rock, Paper or Scissors?Scissors\n",
            "You Lose Rock smashes Scissors\n",
            "Rock, Paper or Scissors?Paper\n",
            "You Win! Paper covers Rock\n",
            "Rock, Paper or Scissors?End\n",
            "Final Score: \n",
            "Computer Score:1\n",
            "Player Score:1\n"
          ]
        }
      ],
      "source": [
        "import random as r \n",
        "choices =  ['Rock', 'Paper', 'Scissors']\n",
        "computer = r.choice(choices)\n",
        "\n",
        "player = False\n",
        "computer_score = 0\n",
        "player_score = 0\n",
        "while True:\n",
        "  player = input('Rock, Paper or Scissors?').capitalize() # this function converts first letter of string to uppercase and rest to lower case\n",
        "  if player == computer:\n",
        "    print('Tie')\n",
        "  elif player == 'Rock':\n",
        "    if computer == 'Paper':\n",
        "      print('You lose!',computer, 'covers',player) \n",
        "      computer_score += 1\n",
        "    else:\n",
        "      print('You win!',player,'smashes',computer)\n",
        "      player_score += 1   \n",
        "\n",
        "  elif player == 'Paper':\n",
        "    if computer == 'Scissors':\n",
        "      print('You lose!',computer,'cuts',player)\n",
        "      computer_score += 1\n",
        "    else:\n",
        "      print('You Win!',player,'covers',computer)\n",
        "      player_score += 1\n",
        "    \n",
        "  elif player == 'Scissors':\n",
        "    if computer == 'Rock':\n",
        "      print('You Lose',computer,'smashes',player)\n",
        "      computer_score += 1\n",
        "    else:\n",
        "      print('You Win',player,'cut',computer)\n",
        "      player_score += 1 \n",
        "\n",
        "  elif player == 'End':\n",
        "    print(\"Final Score: \")\n",
        "    print(f\"Computer Score:{computer_score}\")   \n",
        "    print(f\"Player Score:{player_score}\")     \n",
        "    break\n",
        "    "
      ]
    }
  ]
}